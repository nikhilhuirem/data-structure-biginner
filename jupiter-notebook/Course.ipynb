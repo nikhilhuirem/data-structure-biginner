{
 "cells": [
  {
   "cell_type": "code",
   "execution_count": 6,
   "id": "295b80c4",
   "metadata": {},
   "outputs": [
    {
     "name": "stdout",
     "output_type": "stream",
     "text": [
      "Enter your name: Huriem\n",
      "access Denied\n"
     ]
    }
   ],
   "source": [
    "req_users = [\"Nikhil\", \"Anurag\", \"Suraj\"]\n",
    "name = input(\"Enter your name: \")\n",
    "\n",
    "if name in req_users:\n",
    "    print(\"Access Succesfull\")\n",
    "else:\n",
    "    print(\"access Denied\")"
   ]
  },
  {
   "cell_type": "code",
   "execution_count": 8,
   "id": "f3c65c39",
   "metadata": {},
   "outputs": [
    {
     "name": "stdout",
     "output_type": "stream",
     "text": [
      "False\n",
      "4400447936\n",
      "4481862336\n"
     ]
    }
   ],
   "source": [
    "list1 = [10,20,30]\n",
    "list2 = [10,20,30]\n",
    "\n",
    "print(list1 is list2)\n",
    "print(id(list1))\n",
    "print(id(list2))"
   ]
  },
  {
   "cell_type": "code",
   "execution_count": 10,
   "id": "6f19761a",
   "metadata": {},
   "outputs": [
    {
     "name": "stdout",
     "output_type": "stream",
     "text": [
      "True\n",
      "4347791216\n",
      "4347791216\n"
     ]
    }
   ],
   "source": [
    "name = None\n",
    "name2 = None\n",
    "print(name is name2)\n",
    "print(id(name))\n",
    "print(id(name2))"
   ]
  },
  {
   "cell_type": "code",
   "execution_count": null,
   "id": "bb4e41eb",
   "metadata": {},
   "outputs": [],
   "source": []
  },
  {
   "cell_type": "code",
   "execution_count": null,
   "id": "af9161d8",
   "metadata": {},
   "outputs": [],
   "source": []
  },
  {
   "cell_type": "code",
   "execution_count": null,
   "id": "539751bc",
   "metadata": {},
   "outputs": [],
   "source": []
  }
 ],
 "metadata": {
  "kernelspec": {
   "display_name": "Python 3 (ipykernel)",
   "language": "python",
   "name": "python3"
  },
  "language_info": {
   "codemirror_mode": {
    "name": "ipython",
    "version": 3
   },
   "file_extension": ".py",
   "mimetype": "text/x-python",
   "name": "python",
   "nbconvert_exporter": "python",
   "pygments_lexer": "ipython3",
   "version": "3.11.5"
  }
 },
 "nbformat": 4,
 "nbformat_minor": 5
}
