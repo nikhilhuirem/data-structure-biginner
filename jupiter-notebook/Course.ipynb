{
 "cells": [
  {
   "cell_type": "code",
   "execution_count": 6,
   "id": "295b80c4",
   "metadata": {},
   "outputs": [
    {
     "name": "stdout",
     "output_type": "stream",
     "text": [
      "Enter your name: Huriem\n",
      "access Denied\n"
     ]
    }
   ],
   "source": [
    "req_users = [\"Nikhil\", \"Anurag\", \"Suraj\"]\n",
    "name = input(\"Enter your name: \")\n",
    "\n",
    "if name in req_users:\n",
    "    print(\"Access Succesfull\")\n",
    "else:\n",
    "    print(\"access Denied\")"
   ]
  },
  {
   "cell_type": "code",
   "execution_count": 8,
   "id": "f3c65c39",
   "metadata": {},
   "outputs": [
    {
     "name": "stdout",
     "output_type": "stream",
     "text": [
      "False\n",
      "4400447936\n",
      "4481862336\n"
     ]
    }
   ],
   "source": [
    "list1 = [10,20,30]\n",
    "list2 = [10,20,30]\n",
    "\n",
    "print(list1 is list2)\n",
    "print(id(list1))\n",
    "print(id(list2))"
   ]
  },
  {
   "cell_type": "code",
   "execution_count": 10,
   "id": "6f19761a",
   "metadata": {},
   "outputs": [
    {
     "name": "stdout",
     "output_type": "stream",
     "text": [
      "True\n",
      "4347791216\n",
      "4347791216\n"
     ]
    }
   ],
   "source": [
    "name = None\n",
    "name2 = None\n",
    "print(name is name2)\n",
    "print(id(name))\n",
    "print(id(name2))"
   ]
  },
  {
   "cell_type": "code",
   "execution_count": 1,
   "id": "bb4e41eb",
   "metadata": {},
   "outputs": [
    {
     "name": "stdout",
     "output_type": "stream",
     "text": [
      "hello, World\n",
      "12\n",
      "h\n",
      "ell\n"
     ]
    }
   ],
   "source": [
    "first_string = \"hello, World\"\n",
    "print(first_string)\n",
    "print(len(first_string))\n",
    "print(first_string[0])\n",
    "print(first_string[1:4])\n",
    "first_sting[0] = 'o'"
   ]
  },
  {
   "cell_type": "code",
   "execution_count": 3,
   "id": "af9161d8",
   "metadata": {},
   "outputs": [
    {
     "name": "stdout",
     "output_type": "stream",
     "text": [
      "hello20\n"
     ]
    }
   ],
   "source": [
    "string1 = \"hello\"\n",
    "string2 = 20\n",
    "ans = string1 + str(string2)\n",
    "print(ans)"
   ]
  },
  {
   "cell_type": "code",
   "execution_count": 4,
   "id": "539751bc",
   "metadata": {},
   "outputs": [
    {
     "name": "stdout",
     "output_type": "stream",
     "text": [
      "lihkiN\n"
     ]
    }
   ],
   "source": [
    "name = \"Nikhil\"\n",
    "ans = name[::-1]\n",
    "print(ans)"
   ]
  },
  {
   "cell_type": "code",
   "execution_count": null,
   "id": "c6b6484b",
   "metadata": {},
   "outputs": [],
   "source": [
    "arr1 = [3,6,1,7,9,3,6,2]\n",
    "arr1.sort(reverse = True)\n",
    "print(arr1)"
   ]
  },
  {
   "cell_type": "code",
   "execution_count": 8,
   "id": "a2981672",
   "metadata": {},
   "outputs": [
    {
     "name": "stdout",
     "output_type": "stream",
     "text": [
      "[3, 6, 1, 7, 9, 3, 6, 2]\n",
      "[1, 2, 3, 3, 6, 6, 7, 9]\n"
     ]
    }
   ],
   "source": [
    "arr1 = [3,6,1,7,9,3,6,2]\n",
    "arr2 = sorted(arr1)\n",
    "print(arr1)\n",
    "print(arr2)"
   ]
  },
  {
   "cell_type": "code",
   "execution_count": 10,
   "id": "8af1e890",
   "metadata": {},
   "outputs": [
    {
     "name": "stdout",
     "output_type": "stream",
     "text": [
      "{11: 'Nikhil', 12: 'Huirem', 14: [23, 45]}\n",
      "23\n",
      "Nikhil\n"
     ]
    }
   ],
   "source": [
    "dict1 = {11:\"Nikhil\", 12: \"Huirem\", 14: [23,45]}\n",
    "print(dict1)\n",
    "print(dict1.get(14))\n",
    "print(dict1.get(11))"
   ]
  },
  {
   "cell_type": "code",
   "execution_count": 15,
   "id": "a19b5928",
   "metadata": {},
   "outputs": [
    {
     "name": "stdout",
     "output_type": "stream",
     "text": [
      "Enter Your password: jshd\n",
      "Wrong credentials. You left 3 attempts. Enter Again.\n",
      "Enter Your password: jfajsd\n",
      "Wrong credentials. You left 2 attempts. Enter Again.\n",
      "Enter Your password: hfald\n",
      "Wrong credentials. You left 1 attempts. Enter Again.\n",
      "Enter Your password: fal\n",
      "Wrong credentials. You left 0 attempts. Enter Again.\n"
     ]
    }
   ],
   "source": [
    "for i in range(4):\n",
    "    password = input(\"Enter Your password: \")\n",
    "    \n",
    "    if password == \"123456\":\n",
    "        print(\"Success\")\n",
    "        break\n",
    "    else:\n",
    "        print(f\"Wrong credentials. You left {4 - i -1} attempts.\")\n",
    "        "
   ]
  },
  {
   "cell_type": "code",
   "execution_count": null,
   "id": "f99cf0f3",
   "metadata": {},
   "outputs": [],
   "source": []
  },
  {
   "cell_type": "code",
   "execution_count": null,
   "id": "23a63e57",
   "metadata": {},
   "outputs": [],
   "source": []
  },
  {
   "cell_type": "code",
   "execution_count": null,
   "id": "81ab2d96",
   "metadata": {},
   "outputs": [],
   "source": []
  },
  {
   "cell_type": "code",
   "execution_count": null,
   "id": "0f379ed6",
   "metadata": {},
   "outputs": [],
   "source": []
  }
 ],
 "metadata": {
  "kernelspec": {
   "display_name": "Python 3 (ipykernel)",
   "language": "python",
   "name": "python3"
  },
  "language_info": {
   "codemirror_mode": {
    "name": "ipython",
    "version": 3
   },
   "file_extension": ".py",
   "mimetype": "text/x-python",
   "name": "python",
   "nbconvert_exporter": "python",
   "pygments_lexer": "ipython3",
   "version": "3.11.5"
  }
 },
 "nbformat": 4,
 "nbformat_minor": 5
}
