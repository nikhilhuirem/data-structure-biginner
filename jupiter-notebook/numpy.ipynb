{
 "cells": [
  {
   "cell_type": "markdown",
   "id": "c4345d74",
   "metadata": {},
   "source": [
    "Numpy Stands for numerical python. Powerful python lybrary that is widely used for scientific computing, data analysis, and numerical computing task.\n",
    "pip install NumPy"
   ]
  },
  {
   "cell_type": "code",
   "execution_count": 5,
   "id": "9837fc67",
   "metadata": {
    "scrolled": true
   },
   "outputs": [
    {
     "name": "stdout",
     "output_type": "stream",
     "text": [
      "[10 20 30 40 50 60]\n"
     ]
    },
    {
     "data": {
      "text/plain": [
       "numpy.ndarray"
      ]
     },
     "execution_count": 5,
     "metadata": {},
     "output_type": "execute_result"
    }
   ],
   "source": [
    "import numpy as np\n",
    "list1 = [10,20,30,40,50,60]\n",
    "array1 = np.array(list1, dtype=int)\n",
    "print(array1)\n"
   ]
  },
  {
   "cell_type": "code",
   "execution_count": null,
   "id": "f24972e8",
   "metadata": {},
   "outputs": [],
   "source": []
  }
 ],
 "metadata": {
  "kernelspec": {
   "display_name": "Python 3 (ipykernel)",
   "language": "python",
   "name": "python3"
  },
  "language_info": {
   "codemirror_mode": {
    "name": "ipython",
    "version": 3
   },
   "file_extension": ".py",
   "mimetype": "text/x-python",
   "name": "python",
   "nbconvert_exporter": "python",
   "pygments_lexer": "ipython3",
   "version": "3.11.5"
  }
 },
 "nbformat": 4,
 "nbformat_minor": 5
}
