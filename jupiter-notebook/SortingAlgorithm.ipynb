{
 "cells": [
  {
   "cell_type": "code",
   "execution_count": 9,
   "id": "2969c018",
   "metadata": {},
   "outputs": [
    {
     "name": "stdout",
     "output_type": "stream",
     "text": [
      "[17, 24, 30, 41, 42]\n"
     ]
    }
   ],
   "source": [
    "def insertionSort(arr):\n",
    "    n = len(arr)\n",
    "    \n",
    "    for i in range(1,n):\n",
    "        key = arr[i]\n",
    "        j = i - 1\n",
    "        \n",
    "        while j >=0 and key < arr[j]:\n",
    "            arr[j + 1] = arr[j]\n",
    "            j -= 1\n",
    "        arr[j + 1] = key\n",
    "\n",
    "arr = [24, 41, 30, 42, 17]        \n",
    "ans = insertionSort(arr)\n",
    "print(arr)"
   ]
  },
  {
   "cell_type": "markdown",
   "id": "e50da965",
   "metadata": {},
   "source": [
    "In doing selection sort We should follow few steps\n",
    "S1: First see the no\n",
    "S2: After taking the second no see wether it is less then or greater than, if it is less then then shift the past no to the rightmost and check for the rest if it is greater than then leave as it is."
   ]
  },
  {
   "cell_type": "code",
   "execution_count": 13,
   "id": "1108e793",
   "metadata": {},
   "outputs": [
    {
     "name": "stdout",
     "output_type": "stream",
     "text": [
      "[17, 24, 30, 41, 42]\n"
     ]
    }
   ],
   "source": [
    "def selectionSort(arr):\n",
    "    n = len(arr)\n",
    "    \n",
    "    for i in range(n-1):\n",
    "        mini = i\n",
    "        for j in range(i+1, n):\n",
    "            if arr[j] < arr[mini]:\n",
    "                mini = j\n",
    "        arr[i], arr[mini] = arr[mini], arr[i]\n",
    "arr = [24, 41, 30, 42, 17]        \n",
    "ans = selectionSort(arr)\n",
    "print(arr)"
   ]
  },
  {
   "cell_type": "markdown",
   "id": "65916d0c",
   "metadata": {},
   "source": [
    "In sorting algoritim first we solve by swaping the no by checking with current index and with the smallest value"
   ]
  },
  {
   "cell_type": "code",
   "execution_count": 4,
   "id": "ca10ee07",
   "metadata": {},
   "outputs": [
    {
     "name": "stdout",
     "output_type": "stream",
     "text": [
      "[10, 20, 30, 40]\n"
     ]
    }
   ],
   "source": [
    "def bubbleSort(arr):\n",
    "    n = len(arr)\n",
    "    \n",
    "    for i in range(n):\n",
    "        swaped = False\n",
    "        for j in range(0, n - i - 1):\n",
    "            if arr[j] > arr[j + 1]:\n",
    "                arr[j], arr[j + 1] = arr[j + 1], arr[j]\n",
    "                swaped = True\n",
    "            if not swaped:\n",
    "                break\n",
    "                \n",
    "arr = [40, 30, 20, 10]\n",
    "bubbleSort(arr)\n",
    "print(arr)"
   ]
  },
  {
   "cell_type": "markdown",
   "id": "87d3cb46",
   "metadata": {},
   "source": [
    "In bubble sort we go by checking two window adjacently and placed the largest value at the end of thre string."
   ]
  }
 ],
 "metadata": {
  "kernelspec": {
   "display_name": "Python 3 (ipykernel)",
   "language": "python",
   "name": "python3"
  },
  "language_info": {
   "codemirror_mode": {
    "name": "ipython",
    "version": 3
   },
   "file_extension": ".py",
   "mimetype": "text/x-python",
   "name": "python",
   "nbconvert_exporter": "python",
   "pygments_lexer": "ipython3",
   "version": "3.11.5"
  }
 },
 "nbformat": 4,
 "nbformat_minor": 5
}
